{
 "cells": [
  {
   "cell_type": "code",
   "execution_count": 1,
   "metadata": {},
   "outputs": [],
   "source": [
    "import os\n",
    "import sys\n",
    "import cv2\n",
    "import time\n",
    "import numpy as np\n",
    "import pandas as pd\n",
    "import tensorflow as tf\n",
    "from keras import Sequential\n",
    "from keras.layers import Flatten, Dense, Dropout, Conv2D, MaxPooling2D\n",
    "from sklearn.model_selection import train_test_split"
   ]
  },
  {
   "cell_type": "code",
   "execution_count": 21,
   "metadata": {},
   "outputs": [],
   "source": [
    "hands = {'rock': 0, 'paper': 1, 'scissors': 2, 'other': 3}\n",
    "\n",
    "def oneHotEncode(labels, n_classes=4):\n",
    "    return np.eye(n_classes, dtype=int)[labels]\n",
    "\n",
    "# image data augmentation\n",
    "def horizontalFlip(img):\n",
    "    return cv2.flip(img, 1)\n",
    "\n",
    "def verticalFlip(img):\n",
    "    return cv2.flip(img, 0)\n",
    "\n",
    "def grayScale(img):\n",
    "    return cv2.cvtColor(img, cv2.COLOR_RGB2GRAY)\n",
    "\n",
    "def rotate(img, angle):\n",
    "    return cv2.rotate(img, angle)"
   ]
  },
  {
   "cell_type": "code",
   "execution_count": 22,
   "metadata": {},
   "outputs": [],
   "source": [
    "def augment():\n",
    "    for hand in hands.keys():\n",
    "        for filename in os.listdir(hand):\n",
    "            img = cv2.imread(os.path.join(hand, filename))\n",
    "            filename = filename.split('.')[0]\n",
    "            cv2.imwrite(filename=os.path.join(hand, \"{}_hflip.jpg\".format(filename)), img=horizontalFlip(img))\n",
    "            cv2.imwrite(filename=os.path.join(hand, \"{}_vflip.jpg\".format(filename)), img=verticalFlip(img))\n",
    "            cv2.imwrite(filename=os.path.join(hand, \"{}_grayscale.jpg\".format(filename)), img=grayScale(img))\n",
    "            cv2.imwrite(filename=os.path.join(hand, \"{}_rotate90cw.jpg\".format(filename)), \n",
    "                img=rotate(img, cv2.ROTATE_90_CLOCKWISE))\n",
    "            cv2.imwrite(filename=os.path.join(hand, \"{}_rotate90ccw.jpg\".format(filename)), \n",
    "                img=rotate(img, cv2.ROTATE_90_COUNTERCLOCKWISE))\n"
   ]
  },
  {
   "cell_type": "code",
   "execution_count": 23,
   "metadata": {},
   "outputs": [],
   "source": [
    "def preprocess():\n",
    "    start = time.time()\n",
    "    images = []\n",
    "    labels = []\n",
    "    for hand in hands.keys():\n",
    "        for filename in os.listdir(hand):\n",
    "            img = cv2.imread(os.path.join(hand, filename))\n",
    "            img = cv2.resize(img, (227, 227))\n",
    "            images.append(img)\n",
    "            labels.append(hands[hand])\n",
    "    labels = oneHotEncode(labels)\n",
    "    end = time.time()\n",
    "    print(\"time taken for preprocessing and labelling\", end - start)\n",
    "    return np.array(images), labels"
   ]
  },
  {
   "cell_type": "code",
   "execution_count": 24,
   "metadata": {},
   "outputs": [
    {
     "data": {
      "text/plain": [
       "(4, 3, 3)"
      ]
     },
     "execution_count": 24,
     "metadata": {},
     "output_type": "execute_result"
    }
   ],
   "source": [
    "x = np.array([[[1,2,3],[1,2,3],[1,2,3]],[[1,2,3],[1,2,3],[1,2,3]], [[1,2,3],[1,2,3],[1,2,3]],[[1,2,3],[1,2,3],[1,2,3]]])\n",
    "# x.concatenate([[1,2,3],[1,2,3],[1,2,3]],[[1,2,3],[1,2,3],[1,2,3]])\n",
    "x.shape"
   ]
  },
  {
   "cell_type": "code",
   "execution_count": 25,
   "metadata": {},
   "outputs": [],
   "source": [
    "# augment()"
   ]
  },
  {
   "cell_type": "code",
   "execution_count": 26,
   "metadata": {},
   "outputs": [
    {
     "name": "stdout",
     "output_type": "stream",
     "text": [
      "time taken for preprocessing and labelling 45.73922896385193\n"
     ]
    }
   ],
   "source": [
    "images, labels = preprocess()"
   ]
  },
  {
   "cell_type": "code",
   "execution_count": 33,
   "metadata": {},
   "outputs": [
    {
     "data": {
      "text/plain": [
       "(12000, 4)"
      ]
     },
     "execution_count": 33,
     "metadata": {},
     "output_type": "execute_result"
    }
   ],
   "source": [
    "labels.shape"
   ]
  },
  {
   "cell_type": "code",
   "execution_count": 72,
   "metadata": {},
   "outputs": [],
   "source": [
    "# df = pd.DataFrame(columns=['image', 'label'])\n",
    "# df['image'] = images\n",
    "# df['label'] = labels"
   ]
  },
  {
   "cell_type": "code",
   "execution_count": 52,
   "metadata": {},
   "outputs": [],
   "source": [
    "# df2 = pd.DataFrame(columns = ['A','B','C'])\n",
    "# df2['A'] = np.array(['hello', 'there', 'man'])\n",
    "# df2['B'] = ['a', 'b', 'c']\n",
    "# df2['C'] = np.array([[1, 2, 3],[4,5,6], [7,8,9]]).tolist()\n",
    "# df2"
   ]
  },
  {
   "cell_type": "code",
   "execution_count": 8,
   "metadata": {},
   "outputs": [
    {
     "data": {
      "text/html": [
       "<div>\n",
       "<style scoped>\n",
       "    .dataframe tbody tr th:only-of-type {\n",
       "        vertical-align: middle;\n",
       "    }\n",
       "\n",
       "    .dataframe tbody tr th {\n",
       "        vertical-align: top;\n",
       "    }\n",
       "\n",
       "    .dataframe thead th {\n",
       "        text-align: right;\n",
       "    }\n",
       "</style>\n",
       "<table border=\"1\" class=\"dataframe\">\n",
       "  <thead>\n",
       "    <tr style=\"text-align: right;\">\n",
       "      <th></th>\n",
       "      <th>image</th>\n",
       "      <th>label</th>\n",
       "    </tr>\n",
       "  </thead>\n",
       "  <tbody>\n",
       "    <tr>\n",
       "      <th>0</th>\n",
       "      <td>[[[88, 7, 147], [89, 6, 151], [85, 8, 145], [8...</td>\n",
       "      <td>[0, 0, 1, 0]</td>\n",
       "    </tr>\n",
       "    <tr>\n",
       "      <th>1</th>\n",
       "      <td>[[[74, 13, 145], [71, 15, 142], [69, 16, 138],...</td>\n",
       "      <td>[0, 1, 0, 0]</td>\n",
       "    </tr>\n",
       "    <tr>\n",
       "      <th>2</th>\n",
       "      <td>[[[46, 46, 46], [47, 47, 47], [45, 45, 45], [4...</td>\n",
       "      <td>[0, 0, 1, 0]</td>\n",
       "    </tr>\n",
       "    <tr>\n",
       "      <th>3</th>\n",
       "      <td>[[[78, 13, 143], [74, 14, 140], [70, 17, 138],...</td>\n",
       "      <td>[0, 0, 1, 0]</td>\n",
       "    </tr>\n",
       "    <tr>\n",
       "      <th>4</th>\n",
       "      <td>[[[82, 12, 143], [79, 9, 149], [81, 13, 146], ...</td>\n",
       "      <td>[0, 0, 0, 1]</td>\n",
       "    </tr>\n",
       "    <tr>\n",
       "      <th>5</th>\n",
       "      <td>[[[77, 13, 141], [79, 9, 149], [82, 8, 149], [...</td>\n",
       "      <td>[0, 0, 0, 1]</td>\n",
       "    </tr>\n",
       "    <tr>\n",
       "      <th>6</th>\n",
       "      <td>[[[74, 13, 143], [83, 9, 147], [85, 9, 149], [...</td>\n",
       "      <td>[0, 1, 0, 0]</td>\n",
       "    </tr>\n",
       "    <tr>\n",
       "      <th>7</th>\n",
       "      <td>[[[83, 12, 142], [77, 14, 141], [74, 15, 141],...</td>\n",
       "      <td>[0, 0, 1, 0]</td>\n",
       "    </tr>\n",
       "    <tr>\n",
       "      <th>8</th>\n",
       "      <td>[[[74, 12, 145], [87, 8, 152], [91, 8, 147], [...</td>\n",
       "      <td>[0, 0, 0, 1]</td>\n",
       "    </tr>\n",
       "    <tr>\n",
       "      <th>9</th>\n",
       "      <td>[[[79, 12, 144], [78, 11, 144], [71, 15, 142],...</td>\n",
       "      <td>[0, 1, 0, 0]</td>\n",
       "    </tr>\n",
       "    <tr>\n",
       "      <th>10</th>\n",
       "      <td>[[[80, 11, 145], [76, 13, 143], [71, 18, 137],...</td>\n",
       "      <td>[0, 0, 1, 0]</td>\n",
       "    </tr>\n",
       "    <tr>\n",
       "      <th>11</th>\n",
       "      <td>[[[78, 14, 140], [80, 11, 148], [83, 12, 144],...</td>\n",
       "      <td>[0, 0, 1, 0]</td>\n",
       "    </tr>\n",
       "    <tr>\n",
       "      <th>12</th>\n",
       "      <td>[[[77, 12, 145], [83, 9, 150], [83, 10, 146], ...</td>\n",
       "      <td>[1, 0, 0, 0]</td>\n",
       "    </tr>\n",
       "    <tr>\n",
       "      <th>13</th>\n",
       "      <td>[[[91, 8, 146], [85, 5, 149], [83, 11, 144], [...</td>\n",
       "      <td>[1, 0, 0, 0]</td>\n",
       "    </tr>\n",
       "    <tr>\n",
       "      <th>14</th>\n",
       "      <td>[[[84, 8, 150], [85, 5, 154], [81, 7, 146], [8...</td>\n",
       "      <td>[0, 1, 0, 0]</td>\n",
       "    </tr>\n",
       "    <tr>\n",
       "      <th>15</th>\n",
       "      <td>[[[84, 10, 146], [80, 6, 150], [77, 11, 146], ...</td>\n",
       "      <td>[0, 1, 0, 0]</td>\n",
       "    </tr>\n",
       "    <tr>\n",
       "      <th>16</th>\n",
       "      <td>[[[86, 7, 149], [82, 8, 150], [80, 12, 146], [...</td>\n",
       "      <td>[0, 0, 1, 0]</td>\n",
       "    </tr>\n",
       "    <tr>\n",
       "      <th>17</th>\n",
       "      <td>[[[47, 47, 47], [47, 47, 47], [48, 48, 48], [4...</td>\n",
       "      <td>[1, 0, 0, 0]</td>\n",
       "    </tr>\n",
       "    <tr>\n",
       "      <th>18</th>\n",
       "      <td>[[[75, 15, 139], [82, 8, 150], [83, 9, 150], [...</td>\n",
       "      <td>[0, 0, 1, 0]</td>\n",
       "    </tr>\n",
       "    <tr>\n",
       "      <th>19</th>\n",
       "      <td>[[[86, 8, 149], [84, 7, 150], [81, 12, 144], [...</td>\n",
       "      <td>[0, 1, 0, 0]</td>\n",
       "    </tr>\n",
       "    <tr>\n",
       "      <th>20</th>\n",
       "      <td>[[[81, 12, 143], [78, 9, 149], [84, 9, 145], [...</td>\n",
       "      <td>[0, 0, 0, 1]</td>\n",
       "    </tr>\n",
       "    <tr>\n",
       "      <th>21</th>\n",
       "      <td>[[[79, 12, 145], [71, 14, 139], [70, 16, 139],...</td>\n",
       "      <td>[1, 0, 0, 0]</td>\n",
       "    </tr>\n",
       "    <tr>\n",
       "      <th>22</th>\n",
       "      <td>[[[79, 12, 142], [73, 12, 139], [71, 17, 135],...</td>\n",
       "      <td>[1, 0, 0, 0]</td>\n",
       "    </tr>\n",
       "    <tr>\n",
       "      <th>23</th>\n",
       "      <td>[[[79, 14, 141], [75, 14, 141], [71, 14, 140],...</td>\n",
       "      <td>[1, 0, 0, 0]</td>\n",
       "    </tr>\n",
       "    <tr>\n",
       "      <th>24</th>\n",
       "      <td>[[[78, 11, 146], [85, 7, 150], [89, 8, 151], [...</td>\n",
       "      <td>[1, 0, 0, 0]</td>\n",
       "    </tr>\n",
       "  </tbody>\n",
       "</table>\n",
       "</div>"
      ],
      "text/plain": [
       "                                                image         label\n",
       "0   [[[88, 7, 147], [89, 6, 151], [85, 8, 145], [8...  [0, 0, 1, 0]\n",
       "1   [[[74, 13, 145], [71, 15, 142], [69, 16, 138],...  [0, 1, 0, 0]\n",
       "2   [[[46, 46, 46], [47, 47, 47], [45, 45, 45], [4...  [0, 0, 1, 0]\n",
       "3   [[[78, 13, 143], [74, 14, 140], [70, 17, 138],...  [0, 0, 1, 0]\n",
       "4   [[[82, 12, 143], [79, 9, 149], [81, 13, 146], ...  [0, 0, 0, 1]\n",
       "5   [[[77, 13, 141], [79, 9, 149], [82, 8, 149], [...  [0, 0, 0, 1]\n",
       "6   [[[74, 13, 143], [83, 9, 147], [85, 9, 149], [...  [0, 1, 0, 0]\n",
       "7   [[[83, 12, 142], [77, 14, 141], [74, 15, 141],...  [0, 0, 1, 0]\n",
       "8   [[[74, 12, 145], [87, 8, 152], [91, 8, 147], [...  [0, 0, 0, 1]\n",
       "9   [[[79, 12, 144], [78, 11, 144], [71, 15, 142],...  [0, 1, 0, 0]\n",
       "10  [[[80, 11, 145], [76, 13, 143], [71, 18, 137],...  [0, 0, 1, 0]\n",
       "11  [[[78, 14, 140], [80, 11, 148], [83, 12, 144],...  [0, 0, 1, 0]\n",
       "12  [[[77, 12, 145], [83, 9, 150], [83, 10, 146], ...  [1, 0, 0, 0]\n",
       "13  [[[91, 8, 146], [85, 5, 149], [83, 11, 144], [...  [1, 0, 0, 0]\n",
       "14  [[[84, 8, 150], [85, 5, 154], [81, 7, 146], [8...  [0, 1, 0, 0]\n",
       "15  [[[84, 10, 146], [80, 6, 150], [77, 11, 146], ...  [0, 1, 0, 0]\n",
       "16  [[[86, 7, 149], [82, 8, 150], [80, 12, 146], [...  [0, 0, 1, 0]\n",
       "17  [[[47, 47, 47], [47, 47, 47], [48, 48, 48], [4...  [1, 0, 0, 0]\n",
       "18  [[[75, 15, 139], [82, 8, 150], [83, 9, 150], [...  [0, 0, 1, 0]\n",
       "19  [[[86, 8, 149], [84, 7, 150], [81, 12, 144], [...  [0, 1, 0, 0]\n",
       "20  [[[81, 12, 143], [78, 9, 149], [84, 9, 145], [...  [0, 0, 0, 1]\n",
       "21  [[[79, 12, 145], [71, 14, 139], [70, 16, 139],...  [1, 0, 0, 0]\n",
       "22  [[[79, 12, 142], [73, 12, 139], [71, 17, 135],...  [1, 0, 0, 0]\n",
       "23  [[[79, 14, 141], [75, 14, 141], [71, 14, 140],...  [1, 0, 0, 0]\n",
       "24  [[[78, 11, 146], [85, 7, 150], [89, 8, 151], [...  [1, 0, 0, 0]"
      ]
     },
     "execution_count": 8,
     "metadata": {},
     "output_type": "execute_result"
    }
   ],
   "source": [
    "df = df.sample(frac=1, axis=0).reset_index(drop=True)\n",
    "df.head(25)"
   ]
  },
  {
   "cell_type": "code",
   "execution_count": 36,
   "metadata": {},
   "outputs": [],
   "source": [
    "Xtrain, Xtest, Ytrain, Ytest = train_test_split(images, labels, test_size=0.15, shuffle=True)"
   ]
  },
  {
   "cell_type": "code",
   "execution_count": 11,
   "metadata": {},
   "outputs": [
    {
     "data": {
      "text/plain": [
       "(227, 227, 3)"
      ]
     },
     "execution_count": 11,
     "metadata": {},
     "output_type": "execute_result"
    }
   ],
   "source": [
    "df_train['image'][0].shape"
   ]
  },
  {
   "cell_type": "code",
   "execution_count": null,
   "metadata": {},
   "outputs": [],
   "source": [
    "# Xtrain = df_train['image'].tolist()\n",
    "# Ytrain = df_train['label'].tolist()\n",
    "# # train = tf.data.Dataset.from_tensor_slices((Xtrain, Ytrain))\n",
    "\n",
    "# Xtest = df_test['image'].tolist()\n",
    "# Ytest = df_test['label'].tolist()\n",
    "# # test = tf.data.Dataset.from_tensor_slices((Xtest, Ytest))\n"
   ]
  },
  {
   "cell_type": "code",
   "execution_count": 40,
   "metadata": {},
   "outputs": [
    {
     "name": "stdout",
     "output_type": "stream",
     "text": [
      "(1800, 4)\n",
      "85\n"
     ]
    }
   ],
   "source": [
    "print(Ytest.shape)\n",
    "print(Xtrain[0][0][0][0])"
   ]
  },
  {
   "cell_type": "code",
   "execution_count": 46,
   "metadata": {},
   "outputs": [],
   "source": [
    "# build model\n",
    "model = Sequential()\n",
    "model.add(Conv2D(64, (3, 3), activation='relu', input_shape=(227,227,3)))\n",
    "model.add(MaxPooling2D(2,2))\n",
    "model.add(Conv2D(64, (3, 3), activation='relu'))\n",
    "model.add(MaxPooling2D(2,2))\n",
    "model.add(Conv2D(128, (3, 3), activation='relu'))\n",
    "model.add(MaxPooling2D(2,2))\n",
    "model.add(Conv2D(128, (3, 3), activation='relu'))\n",
    "model.add(MaxPooling2D(2,2))\n",
    "model.add(Flatten())\n",
    "model.add(Dropout(0.5))\n",
    "model.add(Dense(256, activation='relu'))\n",
    "model.add(Dense(4, activation='softmax'))\n",
    "\n",
    "model.compile(loss='categorical_crossentropy', optimizer='rmsprop', metrics='accuracy')"
   ]
  },
  {
   "cell_type": "code",
   "execution_count": 47,
   "metadata": {},
   "outputs": [
    {
     "name": "stdout",
     "output_type": "stream",
     "text": [
      "Epoch 1/3\n",
      "319/319 [==============================] - 798s 3s/step - loss: 5.9817 - accuracy: 0.5699\n",
      "Epoch 2/3\n",
      "319/319 [==============================] - 795s 2s/step - loss: 0.4812 - accuracy: 0.9224\n",
      "Epoch 3/3\n",
      "319/319 [==============================] - 817s 3s/step - loss: 1.0398 - accuracy: 0.9625\n"
     ]
    }
   ],
   "source": [
    "history = model.fit(x=Xtrain, y=Ytrain, epochs=3)"
   ]
  },
  {
   "cell_type": "code",
   "execution_count": 48,
   "metadata": {},
   "outputs": [
    {
     "name": "stdout",
     "output_type": "stream",
     "text": [
      "57/57 [==============================] - 35s 622ms/step - loss: 0.0247 - accuracy: 0.9961\n"
     ]
    },
    {
     "data": {
      "text/plain": [
       "[0.024742506444454193, 0.9961110949516296]"
      ]
     },
     "execution_count": 48,
     "metadata": {},
     "output_type": "execute_result"
    }
   ],
   "source": [
    "model.evaluate(x=Xtest, y=Ytest)"
   ]
  },
  {
   "cell_type": "code",
   "execution_count": 53,
   "metadata": {},
   "outputs": [
    {
     "data": {
      "image/png": "[encoded data removed]",
      "text/plain": [
       "<Figure size 432x288 with 1 Axes>"
      ]
     },
     "metadata": {
      "needs_background": "light"
     },
     "output_type": "display_data"
    },
    {
     "data": {
      "image/png": "[encoded data removed]",
      "text/plain": [
       "<Figure size 432x288 with 1 Axes>"
      ]
     },
     "metadata": {
      "needs_background": "light"
     },
     "output_type": "display_data"
    }
   ],
   "source": [
    "import matplotlib.pyplot as plt\n",
    "# summarize history for accuracy\n",
    "plt.plot(history.history['accuracy'])\n",
    "plt.title('model accuracy')\n",
    "plt.ylabel('accuracy')\n",
    "plt.xlabel('epoch')\n",
    "plt.legend(['train', 'test'], loc='upper left')\n",
    "plt.show()\n",
    "# summarize history for loss\n",
    "plt.plot(history.history['loss'])\n",
    "plt.title('model loss')\n",
    "plt.ylabel('loss')\n",
    "plt.xlabel('epoch')\n",
    "plt.legend(['train', 'test'], loc='upper left')\n",
    "plt.show()"
   ]
  },
  {
   "cell_type": "code",
   "execution_count": 55,
   "metadata": {},
   "outputs": [],
   "source": [
    "model.save(\"rps_model.h5\")"
   ]
  },
  {
   "cell_type": "code",
   "execution_count": 71,
   "metadata": {},
   "outputs": [
    {
     "data": {
      "text/plain": [
       "array([[1.0000000e+00, 1.6178163e-11, 1.3374531e-16, 1.7732976e-24]],\n",
       "      dtype=float32)"
      ]
     },
     "execution_count": 71,
     "metadata": {},
     "output_type": "execute_result"
    }
   ],
   "source": [
    "x = Xtest[1]\n",
    "y = Ytest[1]\n",
    "# print(np.array([x]))\n",
    "model.predict(np.asarray([x]))"
   ]
  },
  {
   "cell_type": "code",
   "execution_count": null,
   "metadata": {},
   "outputs": [],
   "source": []
  }
 ],
 "metadata": {
  "kernelspec": {
   "display_name": "Python 3.7.2 64-bit ('venv': venv)",
   "language": "python",
   "name": "python37264bitvenvvenvc34165a328b14779a6f74c8bf2a55e95"
  },
  "language_info": {
   "codemirror_mode": {
    "name": "ipython",
    "version": 3
   },
   "file_extension": ".py",
   "mimetype": "text/x-python",
   "name": "python",
   "nbconvert_exporter": "python",
   "pygments_lexer": "ipython3",
   "version": "3.7.2"
  }
 },
 "nbformat": 4,
 "nbformat_minor": 4
}
