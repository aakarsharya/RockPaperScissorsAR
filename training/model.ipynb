{
 "cells": [
  {
   "cell_type": "code",
   "execution_count": 1,
   "metadata": {},
   "outputs": [],
   "source": [
    "import os\n",
    "import sys\n",
    "import cv2\n",
    "import time\n",
    "import numpy as np\n",
    "import pandas as pd\n",
    "import tensorflow as tf\n",
    "from keras import Sequential\n",
    "from keras.layers import Flatten, Dense, Dropout, Conv2D, MaxPooling2D\n",
    "from sklearn.model_selection import train_test_split"
   ]
  },
  {
   "cell_type": "code",
   "execution_count": 2,
   "metadata": {},
   "outputs": [],
   "source": [
    "hands = {'rock': 0, 'paper': 1, 'scissors': 2, 'other': 3}\n",
    "\n",
    "def oneHotEncode(labels, n_classes=4):\n",
    "    return np.eye(n_classes, dtype=int)[labels]\n",
    "\n",
    "# image data augmentation\n",
    "def horizontalFlip(img):\n",
    "    return cv2.flip(img, 1)\n",
    "\n",
    "def verticalFlip(img):\n",
    "    return cv2.flip(img, 0)\n",
    "\n",
    "def grayScale(img):\n",
    "    return cv2.cvtColor(img, cv2.COLOR_RGB2GRAY)\n",
    "\n",
    "def rotate(img, angle):\n",
    "    return cv2.rotate(img, angle)"
   ]
  },
  {
   "cell_type": "code",
   "execution_count": 3,
   "metadata": {},
   "outputs": [],
   "source": [
    "def augment():\n",
    "    for hand in hands.keys():\n",
    "        for filename in os.listdir(hand):\n",
    "            img = cv2.imread(os.path.join(hand, filename))\n",
    "            filename = filename.split('.')[0]\n",
    "            cv2.imwrite(filename=os.path.join(hand, \"{}_hflip.jpg\".format(filename)), img=horizontalFlip(img))\n",
    "            cv2.imwrite(filename=os.path.join(hand, \"{}_vflip.jpg\".format(filename)), img=verticalFlip(img))\n",
    "            cv2.imwrite(filename=os.path.join(hand, \"{}_grayscale.jpg\".format(filename)), img=grayScale(img))\n",
    "            cv2.imwrite(filename=os.path.join(hand, \"{}_rotate90cw.jpg\".format(filename)), \n",
    "                img=rotate(img, cv2.ROTATE_90_CLOCKWISE))\n",
    "            cv2.imwrite(filename=os.path.join(hand, \"{}_rotate90ccw.jpg\".format(filename)), \n",
    "                img=rotate(img, cv2.ROTATE_90_COUNTERCLOCKWISE))\n"
   ]
  },
  {
   "cell_type": "code",
   "execution_count": 4,
   "metadata": {},
   "outputs": [],
   "source": [
    "def preprocess():\n",
    "    start = time.time()\n",
    "    images = []\n",
    "    labels = []\n",
    "    for hand in hands.keys():\n",
    "        for filename in os.listdir(hand):\n",
    "            img = cv2.imread(os.path.join(hand, filename))\n",
    "            img = cv2.cvtColor(img, cv2.COLOR_BGR2GRAY)\n",
    "            img = cv2.resize(img, (227, 227))\n",
    "            img = np.reshape(img, (227,227,1))\n",
    "            images.append(img)\n",
    "            labels.append(hands[hand])\n",
    "    labels = oneHotEncode(labels)\n",
    "    end = time.time()\n",
    "    print(\"time taken for preprocessing and labelling\", end - start)\n",
    "    return np.array(images), labels"
   ]
  },
  {
   "cell_type": "code",
   "execution_count": 5,
   "metadata": {},
   "outputs": [
    {
     "name": "stdout",
     "output_type": "stream",
     "text": [
      "(227, 227, 1)\n"
     ]
    },
    {
     "data": {
      "text/plain": [
       "True"
      ]
     },
     "execution_count": 5,
     "metadata": {},
     "output_type": "execute_result"
    }
   ],
   "source": [
    "images = []\n",
    "labels = []\n",
    "hand = 'paper'\n",
    "filename = 'paper484.jpg'\n",
    "img = cv2.imread(os.path.join(hand, filename))\n",
    "img = cv2.cvtColor(img, cv2.COLOR_BGR2GRAY)\n",
    "img = cv2.resize(img, (227, 227))\n",
    "img = np.reshape(img, (227,227,1))\n",
    "print(img.shape)\n",
    "cv2.imwrite(\"imgsamp.jpg\", img)\n",
    "# cv2.imshow()"
   ]
  },
  {
   "cell_type": "code",
   "execution_count": null,
   "metadata": {},
   "outputs": [],
   "source": []
  },
  {
   "cell_type": "code",
   "execution_count": 6,
   "metadata": {},
   "outputs": [],
   "source": [
    "# augment()"
   ]
  },
  {
   "cell_type": "code",
   "execution_count": 7,
   "metadata": {},
   "outputs": [
    {
     "name": "stdout",
     "output_type": "stream",
     "text": [
      "time taken for preprocessing and labelling 27.859399795532227\n"
     ]
    }
   ],
   "source": [
    "images, labels = preprocess()"
   ]
  },
  {
   "cell_type": "code",
   "execution_count": 11,
   "metadata": {},
   "outputs": [],
   "source": [
    "Xtrain, Xtest, Ytrain, Ytest = train_test_split(images, labels, test_size=0.05, shuffle=True)"
   ]
  },
  {
   "cell_type": "code",
   "execution_count": 12,
   "metadata": {},
   "outputs": [
    {
     "name": "stdout",
     "output_type": "stream",
     "text": [
      "(500, 4)\n",
      "(9495, 227, 227, 1)\n"
     ]
    }
   ],
   "source": [
    "print(Ytest.shape)\n",
    "print(Xtrain.shape)"
   ]
  },
  {
   "cell_type": "code",
   "execution_count": 13,
   "metadata": {},
   "outputs": [],
   "source": [
    "# build model\n",
    "model = Sequential()\n",
    "model.add(Conv2D(64, (3, 3), activation='relu', input_shape=(227,227,1)))\n",
    "model.add(MaxPooling2D(2,2))\n",
    "model.add(Conv2D(64, (3, 3), activation='relu'))\n",
    "model.add(MaxPooling2D(2,2))\n",
    "model.add(Conv2D(128, (3, 3), activation='relu'))\n",
    "model.add(MaxPooling2D(2,2))\n",
    "model.add(Conv2D(128, (3, 3), activation='relu'))\n",
    "model.add(MaxPooling2D(2,2))\n",
    "model.add(Flatten())\n",
    "model.add(Dropout(0.5))\n",
    "model.add(Dense(256, activation='relu'))\n",
    "model.add(Dense(4, activation='softmax'))\n",
    "\n",
    "model.compile(loss='categorical_crossentropy', optimizer='rmsprop', metrics='accuracy')"
   ]
  },
  {
   "cell_type": "code",
   "execution_count": 14,
   "metadata": {},
   "outputs": [
    {
     "name": "stdout",
     "output_type": "stream",
     "text": [
      "Epoch 1/3\n",
      "297/297 [==============================] - 1135s 4s/step - loss: 6.3971 - accuracy: 0.5234\n",
      "Epoch 2/3\n",
      "297/297 [==============================] - 810s 3s/step - loss: 0.4029 - accuracy: 0.9058\n",
      "Epoch 3/3\n",
      "297/297 [==============================] - 888s 3s/step - loss: 0.2521 - accuracy: 0.9582\n"
     ]
    }
   ],
   "source": [
    "history = model.fit(x=Xtrain, y=Ytrain, epochs=3)"
   ]
  },
  {
   "cell_type": "code",
   "execution_count": 15,
   "metadata": {},
   "outputs": [
    {
     "name": "stdout",
     "output_type": "stream",
     "text": [
      "16/16 [==============================] - 13s 808ms/step - loss: 0.1664 - accuracy: 0.9740\n"
     ]
    },
    {
     "data": {
      "text/plain": [
       "[0.1664200723171234, 0.9739999771118164]"
      ]
     },
     "execution_count": 15,
     "metadata": {},
     "output_type": "execute_result"
    }
   ],
   "source": [
    "model.evaluate(x=Xtest, y=Ytest)"
   ]
  },
  {
   "cell_type": "code",
   "execution_count": null,
   "metadata": {},
   "outputs": [],
   "source": [
    "imgsamp = cv2.imread('')"
   ]
  },
  {
   "cell_type": "code",
   "execution_count": 16,
   "metadata": {},
   "outputs": [
    {
     "data": {
      "image/png": "[encoded data removed]",
      "text/plain": [
       "<Figure size 432x288 with 1 Axes>"
      ]
     },
     "metadata": {
      "needs_background": "light"
     },
     "output_type": "display_data"
    },
    {
     "data": {
      "image/png": "[encoded data removed]",
      "text/plain": [
       "<Figure size 432x288 with 1 Axes>"
      ]
     },
     "metadata": {
      "needs_background": "light"
     },
     "output_type": "display_data"
    }
   ],
   "source": [
    "import matplotlib.pyplot as plt\n",
    "# summarize history for accuracy\n",
    "plt.plot(history.history['accuracy'])\n",
    "plt.title('model accuracy')\n",
    "plt.ylabel('accuracy')\n",
    "plt.xlabel('epoch')\n",
    "plt.legend(['train', 'test'], loc='upper left')\n",
    "plt.show()\n",
    "# summarize history for loss\n",
    "plt.plot(history.history['loss'])\n",
    "plt.title('model loss')\n",
    "plt.ylabel('loss')\n",
    "plt.xlabel('epoch')\n",
    "plt.legend(['train', 'test'], loc='upper left')\n",
    "plt.show()"
   ]
  },
  {
   "cell_type": "code",
   "execution_count": 17,
   "metadata": {},
   "outputs": [],
   "source": [
    "model.save(\"rps_model2.h5\")"
   ]
  },
  {
   "cell_type": "code",
   "execution_count": null,
   "metadata": {},
   "outputs": [],
   "source": [
    "x = Xtest[1]\n",
    "y = Ytest[1]\n",
    "print(Xtest[1].shape)\n",
    "model.predict(np.asarray([x]))"
   ]
  },
  {
   "cell_type": "code",
   "execution_count": null,
   "metadata": {},
   "outputs": [],
   "source": []
  }
 ],
 "metadata": {
  "kernelspec": {
   "display_name": "Python 3.7.2 64-bit ('venv': venv)",
   "language": "python",
   "name": "python37264bitvenvvenvc34165a328b14779a6f74c8bf2a55e95"
  },
  "language_info": {
   "codemirror_mode": {
    "name": "ipython",
    "version": 3
   },
   "file_extension": ".py",
   "mimetype": "text/x-python",
   "name": "python",
   "nbconvert_exporter": "python",
   "pygments_lexer": "ipython3",
   "version": "3.7.2"
  }
 },
 "nbformat": 4,
 "nbformat_minor": 4
}
